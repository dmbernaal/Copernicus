{
 "cells": [
  {
   "cell_type": "markdown",
   "metadata": {},
   "source": [
    "# NLP Driven data exploration\n",
    "One thing that is vital for any form of data analyst is exploring and showing insight from the data. Usually, this insight is made through some form of visualization methods. \n",
    "\n",
    "Why not make data exploration and visualization as simple as typing in a query on google? Or even... just asking \"Alex, plot x and y from year 1920 to 1940\". \n",
    "\n",
    "This is in fact doable. How? Well, we already have some of the data processsing engine finished. We will just need to add to it a bit... and then create a good language model that maps to functions based on input sequence. \n",
    "\n",
    "This is somewhat an attempt at making 'compute' or communication with a computer much more human-like and fluid.\n",
    "\n",
    "For Alpha we can just experiment with a few plotting methods. This can be the simplest and most common forms of data visualization tasks. "
   ]
  },
  {
   "cell_type": "code",
   "execution_count": null,
   "metadata": {},
   "outputs": [],
   "source": []
  }
 ],
 "metadata": {
  "kernelspec": {
   "display_name": "Python 3",
   "language": "python",
   "name": "python3"
  },
  "language_info": {
   "codemirror_mode": {
    "name": "ipython",
    "version": 3
   },
   "file_extension": ".py",
   "mimetype": "text/x-python",
   "name": "python",
   "nbconvert_exporter": "python",
   "pygments_lexer": "ipython3",
   "version": "3.7.3"
  }
 },
 "nbformat": 4,
 "nbformat_minor": 2
}
