{
 "cells": [
  {
   "cell_type": "markdown",
   "metadata": {},
   "source": [
    "# ```copernicusLearner```\n",
    "Our learner class takes inspiration from https://www.fast.ai/ with unique twist. The very first learner we will be working on will be a ```TabularLearner``` which will contain the following. The core of this learner will tune it's architecture and settings based on the ```TabularData``` and ```Tabularbunch``` objects fed into it. \n",
    "* Dynamic NN \n",
    "    * Smart build: The NN will build around the dataset. If the dataset contains catgorical variables only, it will then use embeddings. If it contains continuous variables only, it will just be a feed-forward-NN. If it contains both, we will use both.\n",
    "    * This learner will also decide on the loss 'objective function' based on the ```problem_type``` \n",
    "    * This will allow for experimentation and evolutionary search of hyper-parameters\n",
    "        * BS\n",
    "        * Dropout\n",
    "        * BatchNorm\n",
    "        * Activations\n",
    "        * Optimization Functions\n",
    "* Model Interpretability\n",
    "    * Understand what's 'going on underneath the hood':\n",
    "        * Layer-per-layer telemetry \n",
    "        * Metric analysis: What did it get wrong? This will allow for users to dig deeper into the data and understand perhaps outliers exists that throw the model off\n",
    "    * Real-time inference: The model will allow for interpetation in real-time. That is: once the model is live the user will be able to understand in depth why it's making such predictions.\n",
    "* YAML Configuration\n",
    "    * The user should be able to fully customize everything listed in Dynamic NN through the UI. "
   ]
  },
  {
   "cell_type": "markdown",
   "metadata": {},
   "source": [
    "## Dataset\n",
    "We will be using ```./data/telco``` dataset to help build our learner class and tabular model class. Later, we will test these learners with all datasets in the ```./data``` directory."
   ]
  },
  {
   "cell_type": "code",
   "execution_count": 5,
   "metadata": {},
   "outputs": [],
   "source": [
    "#export\n",
    "from exp.nb_copernicusTabular import *\n",
    "from exp.nb_copernicusActivations import *\n",
    "from exp.nb_copernicusInit import *"
   ]
  },
  {
   "cell_type": "code",
   "execution_count": 6,
   "metadata": {},
   "outputs": [],
   "source": [
    "root = Path('./data')\n",
    "\n",
    "### 1. ###\n",
    "# Grabbing data\n",
    "f = (root/'telco').listdir()[0]\n",
    "data = pd.read_csv(f)\n",
    "\n",
    "### 2. ### \n",
    "# Creating tabularbunch object\n",
    "dependent = 'Churn'\n",
    "tabularbunch = AutoTabularBunch(df=data, dependent=dependent, verbose=False)\n",
    "\n",
    "### 3. ###\n",
    "# Creating our data object\n",
    "data = TabularData(tabularbunch, bs=32, num_workers=1)"
   ]
  },
  {
   "cell_type": "code",
   "execution_count": 7,
   "metadata": {},
   "outputs": [],
   "source": [
    "#export\n",
    "import torch\n",
    "import torch.nn as nn\n",
    "import torch.optim as optim\n",
    "import torch.nn.functional as F\n",
    "import math\n",
    "from functools import partial"
   ]
  },
  {
   "cell_type": "code",
   "execution_count": 14,
   "metadata": {},
   "outputs": [],
   "source": [
    "#export\n",
    "device = torch.device('cuda:0' if torch.cuda.is_available() else 'cpu')\n",
    "torch.cuda.set_device(0) # setting to 0"
   ]
  },
  {
   "cell_type": "code",
   "execution_count": 8,
   "metadata": {},
   "outputs": [],
   "source": [
    "#export\n",
    "def create_tabular_layer_(ni, nf, act=None, bn=True, bias=False):\n",
    "    \"\"\"\n",
    "    This function creates a single layer for our tabular model.\n",
    "    This layer will be composed of: \n",
    "        (linear -> activation --> batchnorm)\n",
    "    This layer will be responsible for any and all continuous variable put-through.\n",
    "    \"\"\"\n",
    "    # picking activation function\n",
    "    act_fn = get_activation_(act)\n",
    "    \n",
    "    # removing bias when we add batchnorm\n",
    "    bias = False if bn else True\n",
    "    \n",
    "    # creating layer\n",
    "    layer = [nn.Linear(ni, nf), act_fn]\n",
    "    if bn: layer.append(nn.BatchNorm1d(nf, eps=1e-5, momentum=0.1))\n",
    "    \n",
    "    return nn.Sequential(*layer)"
   ]
  },
  {
   "cell_type": "code",
   "execution_count": 9,
   "metadata": {},
   "outputs": [],
   "source": [
    "#export\n",
    "class TabularModel(nn.Module):\n",
    "    def __init__(self, nc, nfs, x_state, n_cont, act=None, emb_sz=None, layer=create_tabular_layer_, ps=0.2, emb_ps=0.5, **kwargs):\n",
    "        \"\"\"\n",
    "        nc: <int>: number of classes. What is the output dimension?\n",
    "        nfs: <Array [int...]>: layer complexity \n",
    "        x_state: <string>: catonly, contonly, both | declaring the state of the dataset\n",
    "        n_cont: <int>: number of continuous classes (columns)\n",
    "        act: <string>: activation for linear layers\n",
    "            act = 'mish' for Mish() activation\n",
    "                = 'relu' | None for ReLU() activation\n",
    "                = 'selu' for SeLU() activation\n",
    "                or pass in a pytorch activation class (non-instantiated).\n",
    "        emb_sz: <array [tuple]>: containing all embedding sizes for each categorical column | only will exist if contonly or both x_state\n",
    "        layer: <nn.Sequential>: func that will create a tabular layer. This is mainly for cont layers \n",
    "        ps: <float>: dropout on linear layers (layer)\n",
    "        emb_ps: <float>: dropout for embedding layers\n",
    "        **kwargs: keyword arguments for our layer function.\n",
    "        \"\"\"\n",
    "        super().__init__()\n",
    "        ### State Configuration\n",
    "        if x_state == 'both':\n",
    "            if emb_sz is None: raise ValueError('emb_sz is None. This could be because of no values within this variable. Check your tabularbunch object.')\n",
    "            if n_cont is None: raise ValueError('n_cont is none. Make sure that x_state is correct or implicility declare number of continuous')\n",
    "            # grabbing embeddings if they exist\n",
    "            self.embs = nn.ModuleList([nn.Embedding(c, s) for c,s in emb_sz])\n",
    "            # grabbing embedding count: will use for ni for linear\n",
    "            n_emb = sum(e.embedding_dim for e in self.embs)\n",
    "            self.n_cont = n_cont\n",
    "            self.n_emb = n_emb\n",
    "            self.ni = self.n_cont + self.n_emb # linear input dimension\n",
    "            # dropout for embedding vars\n",
    "            self.drop_emb = nn.Dropout(emb_ps)\n",
    "            # dropout for cont vars\n",
    "            self.drop_cont = nn.Dropout(ps)\n",
    "            \n",
    "        elif x_state == 'catonly':\n",
    "            if emb_sz is None: raise ValueError('emb_sz is None. This could be because of no values within this variable. Check your tabularbunch object.')\n",
    "            # grabbing embeddings if they exist\n",
    "            self.embs = nn.ModuleList([nn.Embedding(c, s) for c,s in emb_sz])\n",
    "            # grabbing embedding count: will use for ni for linear\n",
    "            n_emb = sum(e.embedding_dim for e in self.embs)\n",
    "            self.n_cont = 0\n",
    "            self.n_emb = n_emb\n",
    "            self.ni = self.n_cont + self.n_emb\n",
    "            # dropout for embedding vars\n",
    "            self.drop_emb = nn.Dropout(emb_ps)\n",
    "            \n",
    "        elif x_state == 'contonly' or x_state == 'both':\n",
    "            if n_cont is None: raise ValueError('n_cont is none. Make sure that x_state is correct or implicility declare number of continuous')\n",
    "            self.n_cont = n_cont\n",
    "            self.n_emb = 0\n",
    "            self.ni = self.n_cont + self.n_emb\n",
    "            # dropout for cont\n",
    "            self.drop_cont = nn.Dropout(ps)\n",
    "            \n",
    "        ### Model Configuration\n",
    "        self.nfs = [self.ni] + nfs # appending to model complexity | adding dimension\n",
    "        # creating body of our model\n",
    "        self.body = [layer(self.nfs[i], self.nfs[i+1], act, **kwargs) for i in range(len(self.nfs)-1)]\n",
    "        # creating the head of our model | this will be a linear layer\n",
    "        head = nn.Linear(nfs[-1], nc)\n",
    "        # appending body + head | this will create our layers\n",
    "        self.layers = nn.Sequential(*self.body, head)\n",
    "        \n",
    "    def forward(self, x_cat, x_cont):\n",
    "        \"\"\"\n",
    "        This forward-prop method has been taken from fastai's deep learning framework.\n",
    "        \n",
    "        This dymanic forward method will take in both x_cat and x_cont regardless of the state. That being said, our fit method inside our learner class will automatically create the missing var if it doesn't exist in the given dataset. \n",
    "        \"\"\"\n",
    "        # categorical processing if they exist\n",
    "        if self.n_emb != 0:\n",
    "            x = [e(x_cat[:,i]) for i,e in enumerate(self.embs)]\n",
    "            x = torch.cat(x, 1)\n",
    "            x = self.drop_emb(x)\n",
    "        # continuous processing if they exist\n",
    "        if self.n_cont != 0:\n",
    "            x_cont = self.drop_cont(x_cont)\n",
    "            # concatting embeding output with cont output (bn) if embedding exist\n",
    "            x = torch.cat([x, x_cont], 1) if self.n_embs != 0 else x_cont\n",
    "        # forward prop through all layers\n",
    "        x = self.layers(x)\n",
    "        return x"
   ]
  },
  {
   "cell_type": "code",
   "execution_count": 10,
   "metadata": {},
   "outputs": [],
   "source": [
    "#export\n",
    "def create_tabular_model(data, nfs, init=None, act=None, ps=0.2, emb_ps=0.5, **kwargs):\n",
    "    \"\"\"\n",
    "    Main method to create our tabular model. This function will be mainly called in the learner init, but could be called outside.\n",
    "    nfs: <Array [int..]> will be the model complexity\n",
    "    act: <String> activation function to user\n",
    "        None or 'relu' = ReLU()\n",
    "        'selu' = SeLU()\n",
    "        'mish' = Mish()\n",
    "        | you can also feed in any nn.activation function\n",
    "    **kwargs: key-word arguments to feed into individual layer creation\n",
    "    \"\"\"\n",
    "    # grabbing vars from tabulalarbunch object\n",
    "    nc = data.tabularbunch.nc\n",
    "    x_state = data.tabularbunch.X_state\n",
    "    n_cont = data.tabularbunch.n_cont\n",
    "    \n",
    "    # creating model\n",
    "    # TO DO: make this more modular | bad design\n",
    "    if x_state == 'both' or x_state == 'catonly':\n",
    "        emb_sz = data.tabularbunch.emb_sz\n",
    "        model = TabularModel(nc=nc, nfs=nfs, x_state=x_state, n_cont=n_cont, act=act, ps=ps, emb_ps=emb_ps, emb_sz=emb_sz, **kwargs)\n",
    "    else:\n",
    "        # cont only\n",
    "        model = TabularModel(nc=nc, nfs=nfs, x_state=x_state, n_cont=n_cont, act=act, ps=ps, emb_ps=emb_ps, **kwargs)\n",
    "    \n",
    "    # selecting init\n",
    "    # selu is best with selu normal init: therefor we will overide all other\n",
    "    if act == 'selu': init_method = nn.init.selu_normal_\n",
    "    else:\n",
    "        # getting init\n",
    "        # kaiming normal by default with gain = 1.\n",
    "        init_method = get_init_(init)\n",
    "    \n",
    "    # init our model\n",
    "    init_nn(model, init_method)\n",
    "    return model"
   ]
  },
  {
   "cell_type": "code",
   "execution_count": 11,
   "metadata": {},
   "outputs": [],
   "source": [
    "nfs = [30, 50, 100]\n",
    "model = create_tabular_model(data, nfs)"
   ]
  },
  {
   "cell_type": "code",
   "execution_count": 12,
   "metadata": {},
   "outputs": [],
   "source": [
    "#export\n",
    "import matplotlib.pyplot as plt\n",
    "import seaborn as sns\n",
    "# helper function to check inits\n",
    "def grab_inits(model):\n",
    "    for l in model.children():\n",
    "        if isinstance(l, nn.Sequential):\n",
    "            for layer in l[:-1]:\n",
    "                for li in layer:\n",
    "                    if isinstance(li, nn.Linear):\n",
    "                        return li.weight\n",
    "                    \n",
    "def check_inits(model):\n",
    "    inits = grab_inits(model)\n",
    "    weights = inits.squeeze().detach().numpy()\n",
    "    sns.distplot(weights)\n",
    "    print(f'mean: {weights.mean()}')\n",
    "    print(f'std: {weights.std()}')"
   ]
  },
  {
   "cell_type": "markdown",
   "metadata": {},
   "source": [
    "### Testing model"
   ]
  },
  {
   "cell_type": "code",
   "execution_count": 13,
   "metadata": {},
   "outputs": [
    {
     "name": "stdout",
     "output_type": "stream",
     "text": [
      "mean: -0.01189291849732399\n",
      "std: 1.0305986404418945\n"
     ]
    },
    {
     "data": {
      "image/png": "[encoded data removed]",
      "text/plain": [
       "<Figure size 432x288 with 1 Axes>"
      ]
     },
     "metadata": {
      "needs_background": "light"
     },
     "output_type": "display_data"
    }
   ],
   "source": [
    "nfs = [1]\n",
    "model = create_tabular_model(data, nfs, init='normal', act='elu')\n",
    "check_inits(model)"
   ]
  },
  {
   "cell_type": "markdown",
   "metadata": {},
   "source": [
    "# ```Learner```\n",
    "Now we will create our learner class. This will be the main class that will be responsible for all training and evolutionary search of algorithms. "
   ]
  },
  {
   "cell_type": "code",
   "execution_count": null,
   "metadata": {},
   "outputs": [],
   "source": [
    "#export\n",
    "# LEANRER CLASS | Main training class\n",
    "class Learner():\n",
    "    def __init__(self, data, model, loss_func, metrics, opt_func='adam', lr=1e-2, wd=0.):\n",
    "        \"\"\"\n",
    "        data: <data object>. Contains all dataloaders and tabularbunch\n",
    "        model: <nn.Module | TabularModel>. Our dynamic model. This will be automated through search\n",
    "        loss_func: <nn.F> the loss function. This will be set automatically or manually through the create_tabular_learner function\n",
    "        opt_func: <string>: define the optimizer you want to use from our optimizer classes\n",
    "        metrics: <func> this will be the metrics we will keep track of when training and testing our model\n",
    "        lr: <float> setting learning rate\n",
    "        wd: <float>: weight decay regularization\n",
    "        \"\"\"\n",
    "        self.data = data\n",
    "        self.model = model\n",
    "        self.loss_func = loss_func\n",
    "        self.opt_func = opt_func\n",
    "        self.metrics = metrics\n",
    "        self.lr = lr\n",
    "        self.wd = wd\n",
    "        self.x_state = data.tabularbunch.X_state\n",
    "        \n",
    "        def fit(self, epochs, lr=None, **kwargs):\n",
    "            \"\"\"\n",
    "            Fit is the basic training method used in most frameworks to train nn. This has no special properties such as one_cycle, or annealing. Fit will train_model and eval_model\n",
    "            \"\"\"\n",
    "            # set lr manually if lr is given\n",
    "            self.lr = self.lr if lr is None else lr\n",
    "            \n",
    "            # grabbing and setting optimizer\n",
    "            self.optimizer = self.get_optimizer_(**kwargs)\n",
    "            \n",
    "            # training: Will loop through both train_dl and valid_dl in our data object\n",
    "            for i in range(epochs):\n",
    "                # forward + backward pass through train_dl\n",
    "                loss = self.train_()\n",
    "                # evalating model\n",
    "                val_loss, accuracy = self.val_loss_()\n",
    "                print('--------------------------------------------------')\n",
    "                print(f'train loss: {loss}')\n",
    "                print(\"val loss %.3f and accuracy %.3f\" % (val_loss, accuracy))\n",
    "                \n",
    "        def train_(self):\n",
    "            \"\"\"\n",
    "            Single epoch\n",
    "            Forward and backprop of the model\n",
    "            \"\"\"\n",
    "            # setting model to train mode\n",
    "            self.model.train()\n",
    "            # metrics\n",
    "            # TO DO have method to spit out and keep track of methods here\n",
    "            # for now we will default to accuracy\n",
    "            total = 0\n",
    "            sum_loss = 0\n",
    "            \n",
    "            # decide how to train based on: x_state = both, contonly, catonly\n",
    "            # categorical AND continuous\n",
    "            if self.x_state == 'both':\n",
    "                for x1, x2, y in self.data.train_dl:\n",
    "                    # putting to device\n",
    "                    x1 = x1.to(device)\n",
    "                    x2 = x2.to(device)\n",
    "                    y = y.to(device)\n",
    "                    batch = y.shape[0] # batch size\n",
    "                    y = y.unsqueeze(1) # making dimension same as output\n",
    "                    \n",
    "                    # Forward prop\n",
    "                    out = self.model(x1, x2)\n",
    "                    # calculating loss\n",
    "                    loss = self.loss_func(out, y)\n",
    "                    # back prop\n",
    "                    self.optimizer.zero_grad()\n",
    "                    loss.backward()\n",
    "                    self.optimizer.step()\n",
    "                    \n",
    "                    total += batch\n",
    "                    sum_loss += batch*(loss.item())\n",
    "                    \n",
    "                return sum_loss/total\n",
    "            \n",
    "            # continuous only\n",
    "            elif self.x_state == 'contonly':\n",
    "                for x2, y in self.data.train_dl:\n",
    "                    # putting to device\n",
    "                    x1 = None\n",
    "                    x2 = x2.to(device)\n",
    "                    y = y.to(device)\n",
    "                    batch = y.shape[0] # batch size\n",
    "                    y = y.unsqueeze(1) # making dimension same as output\n",
    "                    \n",
    "                    # Forward prop\n",
    "                    out = self.model(x1, x2)\n",
    "                    # calculating loss\n",
    "                    loss = self.loss_func(out, y)\n",
    "                    # back prop\n",
    "                    self.optimizer.zero_grad()\n",
    "                    loss.backward()\n",
    "                    self.optimizer.step()\n",
    "                    \n",
    "                    total += batch\n",
    "                    sum_loss += batch*(loss.item())\n",
    "                    \n",
    "                return sum_loss/total\n",
    "            \n",
    "            # categorical only\n",
    "            elif self.x_state == 'catonly':\n",
    "                for x1, y in self.data.train_dl:\n",
    "                    # putting to device\n",
    "                    x1 = x1.to(device)\n",
    "                    x2 = None\n",
    "                    y = y.to(device)\n",
    "                    batch = y.shape[0] # batch size\n",
    "                    y = y.unsqueeze(1) # making dimension same as output\n",
    "                    \n",
    "                    # Forward prop\n",
    "                    out = self.model(x1, x2)\n",
    "                    # calculating loss\n",
    "                    loss = self.loss_func(out, y)\n",
    "                    # back prop\n",
    "                    self.optimizer.zero_grad()\n",
    "                    loss.backward()\n",
    "                    self.optimizer.step()\n",
    "                    \n",
    "                    total += batch\n",
    "                    sum_loss += batch*(loss.item())\n",
    "                    \n",
    "                return sum_loss/total\n",
    "            \n",
    "            else: raise ValueError('x_state is not properly defined')\n",
    "                \n",
    "        def val_loss_(self):\n",
    "            # setting model to evaluation\n",
    "            self.model.eval()\n",
    "            \n",
    "            # preset accuracy metric \n",
    "            # TO DO: include other metrics\n",
    "            total = 0\n",
    "            sum_loss = 0\n",
    "            correct = 0\n",
    "            \n",
    "            # decide how to train based on: x_state = both, contonly, catonly\n",
    "            # categorical AND continuous\n",
    "            if self.x_state == 'both':\n",
    "                for x1, x2, y in self.data.valid_dl:\n",
    "                    x1 = x1.to(device)\n",
    "                    x2 = x2.to(device)\n",
    "                    y = y.to(device)\n",
    "                    batch = y.shape[0]\n",
    "                    y = y.unsqueeze(1) # setting to same dimension\n",
    "                    out = self.model(x1, x2)\n",
    "                    loss = self.loss_func(out, y)\n",
    "                    sum_loss += batch*(loss.item())\n",
    "                    total += batch\n",
    "                    pred = (out > 0.).float() # grabbing prediction\n",
    "                    correct += (pred == y).float().sum().item()\n",
    "                return sum_loss/total, correct/total\n",
    "            \n",
    "            # categorical only\n",
    "            elif self.x_state == 'catonly':\n",
    "                for x1, y in self.data.valid_dl:\n",
    "                    x1 = x1.to(device)\n",
    "                    x2 = None\n",
    "                    y = y.to(device)\n",
    "                    batch = y.shape[0]\n",
    "                    y = y.unsqueeze(1) # setting to same dimension\n",
    "                    out = self.model(x1, x2)\n",
    "                    loss = self.loss_func(out, y)\n",
    "                    sum_loss += batch*(loss.item())\n",
    "                    total += batch\n",
    "                    pred = (out > 0.).float() # grabbing prediction\n",
    "                    correct += (pred == y).float().sum().item()\n",
    "                return sum_loss/total, correct/total\n",
    "            \n",
    "            # categorical only\n",
    "            elif self.x_state == 'contonly':\n",
    "                for x2, y in self.data.valid_dl:\n",
    "                    x1 = None\n",
    "                    x2 = x2.to(device)\n",
    "                    y = y.to(device)\n",
    "                    batch = y.shape[0]\n",
    "                    y = y.unsqueeze(1) # setting to same dimension\n",
    "                    out = self.model(x1, x2)\n",
    "                    loss = self.loss_func(out, y)\n",
    "                    sum_loss += batch*(loss.item())\n",
    "                    total += batch\n",
    "                    pred = (out > 0.).float() # grabbing prediction\n",
    "                    correct += (pred == y).float().sum().item()\n",
    "                return sum_loss/total, correct/total\n",
    "            \n",
    "            else: raise ValueError('x_state is not properly defined')\n",
    "            \n",
    "        def get_optimizer_(self, **kwargs):\n",
    "            self.parameters = filter(lambda p: p.requires_grad, self.model.paramters())\n",
    "            \n",
    "            # conditions to grab optimizer\n",
    "            # TO DO: Add all optimizers\n",
    "            if self.opt_func == 'adam':\n",
    "                return optim.Adam(self.parameters, lr=self.lr, weight_decay=self.wd)\n",
    "            else: raise ValueError('opt_func is not properly defined. Check the optimizer_list')"
   ]
  },
  {
   "cell_type": "code",
   "execution_count": 15,
   "metadata": {},
   "outputs": [
    {
     "data": {
      "text/plain": [
       "'both'"
      ]
     },
     "execution_count": 15,
     "metadata": {},
     "output_type": "execute_result"
    }
   ],
   "source": [
    "data.tabularbunch.X_state"
   ]
  },
  {
   "cell_type": "code",
   "execution_count": null,
   "metadata": {},
   "outputs": [],
   "source": []
  },
  {
   "cell_type": "code",
   "execution_count": null,
   "metadata": {},
   "outputs": [],
   "source": []
  },
  {
   "cell_type": "code",
   "execution_count": null,
   "metadata": {},
   "outputs": [],
   "source": []
  },
  {
   "cell_type": "code",
   "execution_count": null,
   "metadata": {},
   "outputs": [],
   "source": []
  },
  {
   "cell_type": "code",
   "execution_count": null,
   "metadata": {},
   "outputs": [],
   "source": []
  },
  {
   "cell_type": "code",
   "execution_count": null,
   "metadata": {},
   "outputs": [],
   "source": []
  },
  {
   "cell_type": "code",
   "execution_count": null,
   "metadata": {},
   "outputs": [],
   "source": []
  },
  {
   "cell_type": "code",
   "execution_count": null,
   "metadata": {},
   "outputs": [],
   "source": []
  },
  {
   "cell_type": "code",
   "execution_count": null,
   "metadata": {},
   "outputs": [],
   "source": []
  },
  {
   "cell_type": "code",
   "execution_count": null,
   "metadata": {},
   "outputs": [],
   "source": []
  },
  {
   "cell_type": "code",
   "execution_count": null,
   "metadata": {},
   "outputs": [],
   "source": []
  },
  {
   "cell_type": "code",
   "execution_count": null,
   "metadata": {},
   "outputs": [],
   "source": []
  },
  {
   "cell_type": "code",
   "execution_count": null,
   "metadata": {},
   "outputs": [],
   "source": []
  },
  {
   "cell_type": "code",
   "execution_count": null,
   "metadata": {},
   "outputs": [],
   "source": []
  },
  {
   "cell_type": "code",
   "execution_count": null,
   "metadata": {},
   "outputs": [],
   "source": []
  },
  {
   "cell_type": "code",
   "execution_count": null,
   "metadata": {},
   "outputs": [],
   "source": []
  },
  {
   "cell_type": "code",
   "execution_count": null,
   "metadata": {},
   "outputs": [],
   "source": []
  },
  {
   "cell_type": "code",
   "execution_count": null,
   "metadata": {},
   "outputs": [],
   "source": []
  },
  {
   "cell_type": "code",
   "execution_count": null,
   "metadata": {},
   "outputs": [],
   "source": []
  },
  {
   "cell_type": "code",
   "execution_count": null,
   "metadata": {},
   "outputs": [],
   "source": []
  },
  {
   "cell_type": "code",
   "execution_count": null,
   "metadata": {},
   "outputs": [],
   "source": []
  },
  {
   "cell_type": "code",
   "execution_count": null,
   "metadata": {},
   "outputs": [],
   "source": []
  },
  {
   "cell_type": "code",
   "execution_count": null,
   "metadata": {},
   "outputs": [],
   "source": []
  },
  {
   "cell_type": "code",
   "execution_count": null,
   "metadata": {},
   "outputs": [],
   "source": []
  },
  {
   "cell_type": "code",
   "execution_count": null,
   "metadata": {},
   "outputs": [],
   "source": []
  },
  {
   "cell_type": "code",
   "execution_count": null,
   "metadata": {},
   "outputs": [],
   "source": []
  },
  {
   "cell_type": "code",
   "execution_count": null,
   "metadata": {},
   "outputs": [],
   "source": []
  },
  {
   "cell_type": "code",
   "execution_count": null,
   "metadata": {},
   "outputs": [],
   "source": []
  },
  {
   "cell_type": "code",
   "execution_count": null,
   "metadata": {},
   "outputs": [],
   "source": []
  },
  {
   "cell_type": "code",
   "execution_count": null,
   "metadata": {},
   "outputs": [],
   "source": []
  },
  {
   "cell_type": "code",
   "execution_count": null,
   "metadata": {},
   "outputs": [],
   "source": []
  },
  {
   "cell_type": "code",
   "execution_count": null,
   "metadata": {},
   "outputs": [],
   "source": []
  },
  {
   "cell_type": "code",
   "execution_count": null,
   "metadata": {},
   "outputs": [],
   "source": []
  },
  {
   "cell_type": "code",
   "execution_count": null,
   "metadata": {},
   "outputs": [],
   "source": []
  },
  {
   "cell_type": "code",
   "execution_count": null,
   "metadata": {},
   "outputs": [],
   "source": []
  },
  {
   "cell_type": "code",
   "execution_count": null,
   "metadata": {},
   "outputs": [],
   "source": []
  },
  {
   "cell_type": "code",
   "execution_count": null,
   "metadata": {},
   "outputs": [],
   "source": []
  },
  {
   "cell_type": "code",
   "execution_count": null,
   "metadata": {},
   "outputs": [],
   "source": []
  },
  {
   "cell_type": "code",
   "execution_count": null,
   "metadata": {},
   "outputs": [],
   "source": []
  },
  {
   "cell_type": "code",
   "execution_count": null,
   "metadata": {},
   "outputs": [],
   "source": []
  },
  {
   "cell_type": "code",
   "execution_count": null,
   "metadata": {},
   "outputs": [],
   "source": []
  },
  {
   "cell_type": "code",
   "execution_count": null,
   "metadata": {},
   "outputs": [],
   "source": []
  },
  {
   "cell_type": "code",
   "execution_count": null,
   "metadata": {},
   "outputs": [],
   "source": []
  },
  {
   "cell_type": "code",
   "execution_count": null,
   "metadata": {},
   "outputs": [],
   "source": []
  },
  {
   "cell_type": "code",
   "execution_count": null,
   "metadata": {},
   "outputs": [],
   "source": []
  },
  {
   "cell_type": "code",
   "execution_count": null,
   "metadata": {},
   "outputs": [],
   "source": []
  },
  {
   "cell_type": "code",
   "execution_count": null,
   "metadata": {},
   "outputs": [],
   "source": []
  },
  {
   "cell_type": "code",
   "execution_count": null,
   "metadata": {},
   "outputs": [],
   "source": []
  },
  {
   "cell_type": "code",
   "execution_count": null,
   "metadata": {},
   "outputs": [],
   "source": []
  },
  {
   "cell_type": "code",
   "execution_count": null,
   "metadata": {},
   "outputs": [],
   "source": []
  },
  {
   "cell_type": "code",
   "execution_count": null,
   "metadata": {},
   "outputs": [],
   "source": []
  },
  {
   "cell_type": "code",
   "execution_count": null,
   "metadata": {},
   "outputs": [],
   "source": []
  },
  {
   "cell_type": "code",
   "execution_count": null,
   "metadata": {},
   "outputs": [],
   "source": []
  },
  {
   "cell_type": "code",
   "execution_count": null,
   "metadata": {},
   "outputs": [],
   "source": []
  },
  {
   "cell_type": "code",
   "execution_count": null,
   "metadata": {},
   "outputs": [],
   "source": []
  },
  {
   "cell_type": "code",
   "execution_count": null,
   "metadata": {},
   "outputs": [],
   "source": []
  },
  {
   "cell_type": "code",
   "execution_count": null,
   "metadata": {},
   "outputs": [],
   "source": []
  },
  {
   "cell_type": "code",
   "execution_count": null,
   "metadata": {},
   "outputs": [],
   "source": []
  },
  {
   "cell_type": "code",
   "execution_count": null,
   "metadata": {},
   "outputs": [],
   "source": []
  },
  {
   "cell_type": "code",
   "execution_count": null,
   "metadata": {},
   "outputs": [],
   "source": []
  },
  {
   "cell_type": "code",
   "execution_count": null,
   "metadata": {},
   "outputs": [],
   "source": []
  },
  {
   "cell_type": "code",
   "execution_count": null,
   "metadata": {},
   "outputs": [],
   "source": []
  },
  {
   "cell_type": "code",
   "execution_count": null,
   "metadata": {},
   "outputs": [],
   "source": []
  },
  {
   "cell_type": "code",
   "execution_count": null,
   "metadata": {},
   "outputs": [],
   "source": []
  },
  {
   "cell_type": "code",
   "execution_count": null,
   "metadata": {},
   "outputs": [],
   "source": []
  },
  {
   "cell_type": "code",
   "execution_count": null,
   "metadata": {},
   "outputs": [],
   "source": []
  },
  {
   "cell_type": "code",
   "execution_count": null,
   "metadata": {},
   "outputs": [],
   "source": []
  },
  {
   "cell_type": "code",
   "execution_count": null,
   "metadata": {},
   "outputs": [],
   "source": []
  },
  {
   "cell_type": "code",
   "execution_count": null,
   "metadata": {},
   "outputs": [],
   "source": []
  },
  {
   "cell_type": "code",
   "execution_count": null,
   "metadata": {},
   "outputs": [],
   "source": []
  },
  {
   "cell_type": "code",
   "execution_count": null,
   "metadata": {},
   "outputs": [],
   "source": []
  },
  {
   "cell_type": "code",
   "execution_count": null,
   "metadata": {},
   "outputs": [],
   "source": []
  },
  {
   "cell_type": "code",
   "execution_count": null,
   "metadata": {},
   "outputs": [],
   "source": []
  },
  {
   "cell_type": "code",
   "execution_count": null,
   "metadata": {},
   "outputs": [],
   "source": []
  },
  {
   "cell_type": "code",
   "execution_count": null,
   "metadata": {},
   "outputs": [],
   "source": []
  },
  {
   "cell_type": "code",
   "execution_count": null,
   "metadata": {},
   "outputs": [],
   "source": []
  },
  {
   "cell_type": "code",
   "execution_count": null,
   "metadata": {},
   "outputs": [],
   "source": []
  },
  {
   "cell_type": "code",
   "execution_count": null,
   "metadata": {},
   "outputs": [],
   "source": []
  },
  {
   "cell_type": "code",
   "execution_count": null,
   "metadata": {},
   "outputs": [],
   "source": []
  },
  {
   "cell_type": "code",
   "execution_count": null,
   "metadata": {},
   "outputs": [],
   "source": []
  },
  {
   "cell_type": "code",
   "execution_count": null,
   "metadata": {},
   "outputs": [],
   "source": []
  },
  {
   "cell_type": "code",
   "execution_count": null,
   "metadata": {},
   "outputs": [],
   "source": []
  },
  {
   "cell_type": "code",
   "execution_count": null,
   "metadata": {},
   "outputs": [],
   "source": []
  },
  {
   "cell_type": "code",
   "execution_count": null,
   "metadata": {},
   "outputs": [],
   "source": []
  },
  {
   "cell_type": "code",
   "execution_count": null,
   "metadata": {},
   "outputs": [],
   "source": []
  },
  {
   "cell_type": "code",
   "execution_count": null,
   "metadata": {},
   "outputs": [],
   "source": []
  },
  {
   "cell_type": "code",
   "execution_count": null,
   "metadata": {},
   "outputs": [],
   "source": []
  },
  {
   "cell_type": "code",
   "execution_count": null,
   "metadata": {},
   "outputs": [],
   "source": []
  },
  {
   "cell_type": "code",
   "execution_count": null,
   "metadata": {},
   "outputs": [],
   "source": []
  },
  {
   "cell_type": "code",
   "execution_count": null,
   "metadata": {},
   "outputs": [],
   "source": []
  },
  {
   "cell_type": "code",
   "execution_count": null,
   "metadata": {},
   "outputs": [],
   "source": []
  },
  {
   "cell_type": "code",
   "execution_count": null,
   "metadata": {},
   "outputs": [],
   "source": []
  },
  {
   "cell_type": "code",
   "execution_count": null,
   "metadata": {},
   "outputs": [],
   "source": []
  },
  {
   "cell_type": "code",
   "execution_count": null,
   "metadata": {},
   "outputs": [],
   "source": []
  },
  {
   "cell_type": "code",
   "execution_count": null,
   "metadata": {},
   "outputs": [],
   "source": []
  },
  {
   "cell_type": "code",
   "execution_count": null,
   "metadata": {},
   "outputs": [],
   "source": []
  },
  {
   "cell_type": "code",
   "execution_count": null,
   "metadata": {},
   "outputs": [],
   "source": []
  },
  {
   "cell_type": "code",
   "execution_count": null,
   "metadata": {},
   "outputs": [],
   "source": []
  },
  {
   "cell_type": "code",
   "execution_count": null,
   "metadata": {},
   "outputs": [],
   "source": []
  },
  {
   "cell_type": "code",
   "execution_count": null,
   "metadata": {},
   "outputs": [],
   "source": []
  },
  {
   "cell_type": "code",
   "execution_count": null,
   "metadata": {},
   "outputs": [],
   "source": []
  },
  {
   "cell_type": "code",
   "execution_count": null,
   "metadata": {},
   "outputs": [],
   "source": []
  },
  {
   "cell_type": "code",
   "execution_count": null,
   "metadata": {},
   "outputs": [],
   "source": []
  },
  {
   "cell_type": "code",
   "execution_count": null,
   "metadata": {},
   "outputs": [],
   "source": []
  },
  {
   "cell_type": "code",
   "execution_count": null,
   "metadata": {},
   "outputs": [],
   "source": []
  },
  {
   "cell_type": "code",
   "execution_count": null,
   "metadata": {},
   "outputs": [],
   "source": []
  },
  {
   "cell_type": "code",
   "execution_count": null,
   "metadata": {},
   "outputs": [],
   "source": []
  },
  {
   "cell_type": "code",
   "execution_count": null,
   "metadata": {},
   "outputs": [],
   "source": []
  },
  {
   "cell_type": "code",
   "execution_count": null,
   "metadata": {},
   "outputs": [],
   "source": []
  },
  {
   "cell_type": "code",
   "execution_count": null,
   "metadata": {},
   "outputs": [],
   "source": []
  },
  {
   "cell_type": "code",
   "execution_count": null,
   "metadata": {},
   "outputs": [],
   "source": []
  },
  {
   "cell_type": "code",
   "execution_count": null,
   "metadata": {},
   "outputs": [],
   "source": []
  },
  {
   "cell_type": "code",
   "execution_count": null,
   "metadata": {},
   "outputs": [],
   "source": []
  },
  {
   "cell_type": "code",
   "execution_count": null,
   "metadata": {},
   "outputs": [],
   "source": []
  },
  {
   "cell_type": "code",
   "execution_count": null,
   "metadata": {},
   "outputs": [],
   "source": []
  },
  {
   "cell_type": "code",
   "execution_count": null,
   "metadata": {},
   "outputs": [],
   "source": []
  },
  {
   "cell_type": "code",
   "execution_count": null,
   "metadata": {},
   "outputs": [],
   "source": []
  },
  {
   "cell_type": "code",
   "execution_count": null,
   "metadata": {},
   "outputs": [],
   "source": []
  },
  {
   "cell_type": "code",
   "execution_count": null,
   "metadata": {},
   "outputs": [],
   "source": []
  },
  {
   "cell_type": "code",
   "execution_count": null,
   "metadata": {},
   "outputs": [],
   "source": []
  },
  {
   "cell_type": "code",
   "execution_count": null,
   "metadata": {},
   "outputs": [],
   "source": []
  },
  {
   "cell_type": "code",
   "execution_count": null,
   "metadata": {},
   "outputs": [],
   "source": []
  },
  {
   "cell_type": "code",
   "execution_count": null,
   "metadata": {},
   "outputs": [],
   "source": []
  },
  {
   "cell_type": "code",
   "execution_count": null,
   "metadata": {},
   "outputs": [],
   "source": []
  },
  {
   "cell_type": "code",
   "execution_count": null,
   "metadata": {},
   "outputs": [],
   "source": []
  },
  {
   "cell_type": "code",
   "execution_count": null,
   "metadata": {},
   "outputs": [],
   "source": []
  },
  {
   "cell_type": "code",
   "execution_count": null,
   "metadata": {},
   "outputs": [],
   "source": []
  },
  {
   "cell_type": "code",
   "execution_count": null,
   "metadata": {},
   "outputs": [],
   "source": []
  },
  {
   "cell_type": "code",
   "execution_count": null,
   "metadata": {},
   "outputs": [],
   "source": []
  },
  {
   "cell_type": "code",
   "execution_count": null,
   "metadata": {},
   "outputs": [],
   "source": []
  },
  {
   "cell_type": "code",
   "execution_count": null,
   "metadata": {},
   "outputs": [],
   "source": []
  },
  {
   "cell_type": "code",
   "execution_count": null,
   "metadata": {},
   "outputs": [],
   "source": []
  },
  {
   "cell_type": "code",
   "execution_count": null,
   "metadata": {},
   "outputs": [],
   "source": []
  },
  {
   "cell_type": "code",
   "execution_count": null,
   "metadata": {},
   "outputs": [],
   "source": []
  },
  {
   "cell_type": "code",
   "execution_count": null,
   "metadata": {},
   "outputs": [],
   "source": []
  },
  {
   "cell_type": "code",
   "execution_count": null,
   "metadata": {},
   "outputs": [],
   "source": []
  },
  {
   "cell_type": "code",
   "execution_count": null,
   "metadata": {},
   "outputs": [],
   "source": []
  },
  {
   "cell_type": "code",
   "execution_count": null,
   "metadata": {},
   "outputs": [],
   "source": []
  },
  {
   "cell_type": "code",
   "execution_count": null,
   "metadata": {},
   "outputs": [],
   "source": []
  },
  {
   "cell_type": "code",
   "execution_count": null,
   "metadata": {},
   "outputs": [],
   "source": []
  },
  {
   "cell_type": "code",
   "execution_count": null,
   "metadata": {},
   "outputs": [],
   "source": []
  },
  {
   "cell_type": "code",
   "execution_count": null,
   "metadata": {},
   "outputs": [],
   "source": []
  },
  {
   "cell_type": "code",
   "execution_count": null,
   "metadata": {},
   "outputs": [],
   "source": []
  },
  {
   "cell_type": "code",
   "execution_count": null,
   "metadata": {},
   "outputs": [],
   "source": []
  },
  {
   "cell_type": "code",
   "execution_count": null,
   "metadata": {},
   "outputs": [],
   "source": []
  },
  {
   "cell_type": "code",
   "execution_count": null,
   "metadata": {},
   "outputs": [],
   "source": []
  },
  {
   "cell_type": "code",
   "execution_count": null,
   "metadata": {},
   "outputs": [],
   "source": []
  },
  {
   "cell_type": "code",
   "execution_count": null,
   "metadata": {},
   "outputs": [],
   "source": []
  },
  {
   "cell_type": "code",
   "execution_count": null,
   "metadata": {},
   "outputs": [],
   "source": []
  },
  {
   "cell_type": "code",
   "execution_count": null,
   "metadata": {},
   "outputs": [],
   "source": []
  },
  {
   "cell_type": "code",
   "execution_count": null,
   "metadata": {},
   "outputs": [],
   "source": []
  },
  {
   "cell_type": "code",
   "execution_count": null,
   "metadata": {},
   "outputs": [],
   "source": []
  },
  {
   "cell_type": "code",
   "execution_count": null,
   "metadata": {},
   "outputs": [],
   "source": []
  },
  {
   "cell_type": "code",
   "execution_count": null,
   "metadata": {},
   "outputs": [],
   "source": []
  },
  {
   "cell_type": "code",
   "execution_count": null,
   "metadata": {},
   "outputs": [],
   "source": []
  },
  {
   "cell_type": "code",
   "execution_count": null,
   "metadata": {},
   "outputs": [],
   "source": []
  },
  {
   "cell_type": "code",
   "execution_count": null,
   "metadata": {},
   "outputs": [],
   "source": []
  },
  {
   "cell_type": "code",
   "execution_count": null,
   "metadata": {},
   "outputs": [],
   "source": []
  },
  {
   "cell_type": "code",
   "execution_count": null,
   "metadata": {},
   "outputs": [],
   "source": []
  },
  {
   "cell_type": "code",
   "execution_count": null,
   "metadata": {},
   "outputs": [],
   "source": []
  },
  {
   "cell_type": "code",
   "execution_count": null,
   "metadata": {},
   "outputs": [],
   "source": []
  },
  {
   "cell_type": "code",
   "execution_count": null,
   "metadata": {},
   "outputs": [],
   "source": []
  },
  {
   "cell_type": "code",
   "execution_count": null,
   "metadata": {},
   "outputs": [],
   "source": []
  },
  {
   "cell_type": "code",
   "execution_count": null,
   "metadata": {},
   "outputs": [],
   "source": []
  },
  {
   "cell_type": "code",
   "execution_count": null,
   "metadata": {},
   "outputs": [],
   "source": []
  },
  {
   "cell_type": "code",
   "execution_count": null,
   "metadata": {},
   "outputs": [],
   "source": []
  },
  {
   "cell_type": "code",
   "execution_count": null,
   "metadata": {},
   "outputs": [],
   "source": []
  },
  {
   "cell_type": "code",
   "execution_count": null,
   "metadata": {},
   "outputs": [],
   "source": []
  },
  {
   "cell_type": "code",
   "execution_count": null,
   "metadata": {},
   "outputs": [],
   "source": []
  },
  {
   "cell_type": "code",
   "execution_count": null,
   "metadata": {},
   "outputs": [],
   "source": []
  },
  {
   "cell_type": "code",
   "execution_count": null,
   "metadata": {},
   "outputs": [],
   "source": []
  },
  {
   "cell_type": "code",
   "execution_count": null,
   "metadata": {},
   "outputs": [],
   "source": []
  },
  {
   "cell_type": "code",
   "execution_count": null,
   "metadata": {},
   "outputs": [],
   "source": []
  },
  {
   "cell_type": "code",
   "execution_count": null,
   "metadata": {},
   "outputs": [],
   "source": []
  },
  {
   "cell_type": "code",
   "execution_count": null,
   "metadata": {},
   "outputs": [],
   "source": []
  },
  {
   "cell_type": "code",
   "execution_count": null,
   "metadata": {},
   "outputs": [],
   "source": []
  },
  {
   "cell_type": "code",
   "execution_count": null,
   "metadata": {},
   "outputs": [],
   "source": []
  },
  {
   "cell_type": "code",
   "execution_count": null,
   "metadata": {},
   "outputs": [],
   "source": []
  },
  {
   "cell_type": "code",
   "execution_count": null,
   "metadata": {},
   "outputs": [],
   "source": []
  },
  {
   "cell_type": "code",
   "execution_count": null,
   "metadata": {},
   "outputs": [],
   "source": []
  },
  {
   "cell_type": "code",
   "execution_count": null,
   "metadata": {},
   "outputs": [],
   "source": []
  },
  {
   "cell_type": "code",
   "execution_count": null,
   "metadata": {},
   "outputs": [],
   "source": []
  },
  {
   "cell_type": "code",
   "execution_count": null,
   "metadata": {},
   "outputs": [],
   "source": []
  },
  {
   "cell_type": "code",
   "execution_count": null,
   "metadata": {},
   "outputs": [],
   "source": []
  },
  {
   "cell_type": "code",
   "execution_count": null,
   "metadata": {},
   "outputs": [],
   "source": []
  },
  {
   "cell_type": "code",
   "execution_count": null,
   "metadata": {},
   "outputs": [],
   "source": []
  },
  {
   "cell_type": "code",
   "execution_count": null,
   "metadata": {},
   "outputs": [],
   "source": []
  },
  {
   "cell_type": "code",
   "execution_count": null,
   "metadata": {},
   "outputs": [],
   "source": []
  },
  {
   "cell_type": "code",
   "execution_count": null,
   "metadata": {},
   "outputs": [],
   "source": []
  },
  {
   "cell_type": "code",
   "execution_count": null,
   "metadata": {},
   "outputs": [],
   "source": []
  },
  {
   "cell_type": "code",
   "execution_count": null,
   "metadata": {},
   "outputs": [],
   "source": []
  },
  {
   "cell_type": "code",
   "execution_count": null,
   "metadata": {},
   "outputs": [],
   "source": []
  },
  {
   "cell_type": "code",
   "execution_count": null,
   "metadata": {},
   "outputs": [],
   "source": []
  },
  {
   "cell_type": "code",
   "execution_count": null,
   "metadata": {},
   "outputs": [],
   "source": []
  },
  {
   "cell_type": "code",
   "execution_count": null,
   "metadata": {},
   "outputs": [],
   "source": []
  },
  {
   "cell_type": "code",
   "execution_count": null,
   "metadata": {},
   "outputs": [],
   "source": []
  },
  {
   "cell_type": "code",
   "execution_count": null,
   "metadata": {},
   "outputs": [],
   "source": []
  },
  {
   "cell_type": "code",
   "execution_count": null,
   "metadata": {},
   "outputs": [],
   "source": []
  },
  {
   "cell_type": "code",
   "execution_count": null,
   "metadata": {},
   "outputs": [],
   "source": []
  },
  {
   "cell_type": "code",
   "execution_count": null,
   "metadata": {},
   "outputs": [],
   "source": []
  },
  {
   "cell_type": "code",
   "execution_count": null,
   "metadata": {},
   "outputs": [],
   "source": []
  },
  {
   "cell_type": "code",
   "execution_count": null,
   "metadata": {},
   "outputs": [],
   "source": []
  },
  {
   "cell_type": "code",
   "execution_count": null,
   "metadata": {},
   "outputs": [],
   "source": []
  },
  {
   "cell_type": "code",
   "execution_count": null,
   "metadata": {},
   "outputs": [],
   "source": []
  },
  {
   "cell_type": "code",
   "execution_count": null,
   "metadata": {},
   "outputs": [],
   "source": []
  },
  {
   "cell_type": "code",
   "execution_count": null,
   "metadata": {},
   "outputs": [],
   "source": []
  },
  {
   "cell_type": "code",
   "execution_count": null,
   "metadata": {},
   "outputs": [],
   "source": []
  },
  {
   "cell_type": "code",
   "execution_count": null,
   "metadata": {},
   "outputs": [],
   "source": []
  },
  {
   "cell_type": "code",
   "execution_count": null,
   "metadata": {},
   "outputs": [],
   "source": []
  },
  {
   "cell_type": "code",
   "execution_count": null,
   "metadata": {},
   "outputs": [],
   "source": []
  },
  {
   "cell_type": "code",
   "execution_count": null,
   "metadata": {},
   "outputs": [],
   "source": []
  },
  {
   "cell_type": "code",
   "execution_count": null,
   "metadata": {},
   "outputs": [],
   "source": []
  },
  {
   "cell_type": "code",
   "execution_count": null,
   "metadata": {},
   "outputs": [],
   "source": []
  },
  {
   "cell_type": "code",
   "execution_count": null,
   "metadata": {},
   "outputs": [],
   "source": []
  },
  {
   "cell_type": "code",
   "execution_count": null,
   "metadata": {},
   "outputs": [],
   "source": []
  },
  {
   "cell_type": "code",
   "execution_count": null,
   "metadata": {},
   "outputs": [],
   "source": []
  },
  {
   "cell_type": "code",
   "execution_count": null,
   "metadata": {},
   "outputs": [],
   "source": []
  },
  {
   "cell_type": "code",
   "execution_count": null,
   "metadata": {},
   "outputs": [],
   "source": []
  },
  {
   "cell_type": "code",
   "execution_count": null,
   "metadata": {},
   "outputs": [],
   "source": []
  },
  {
   "cell_type": "code",
   "execution_count": null,
   "metadata": {},
   "outputs": [],
   "source": []
  },
  {
   "cell_type": "code",
   "execution_count": null,
   "metadata": {},
   "outputs": [],
   "source": []
  },
  {
   "cell_type": "code",
   "execution_count": null,
   "metadata": {},
   "outputs": [],
   "source": []
  },
  {
   "cell_type": "code",
   "execution_count": null,
   "metadata": {},
   "outputs": [],
   "source": []
  },
  {
   "cell_type": "code",
   "execution_count": null,
   "metadata": {},
   "outputs": [],
   "source": []
  },
  {
   "cell_type": "code",
   "execution_count": null,
   "metadata": {},
   "outputs": [],
   "source": []
  },
  {
   "cell_type": "code",
   "execution_count": null,
   "metadata": {},
   "outputs": [],
   "source": []
  },
  {
   "cell_type": "code",
   "execution_count": null,
   "metadata": {},
   "outputs": [],
   "source": []
  },
  {
   "cell_type": "code",
   "execution_count": null,
   "metadata": {},
   "outputs": [],
   "source": []
  },
  {
   "cell_type": "code",
   "execution_count": null,
   "metadata": {},
   "outputs": [],
   "source": []
  },
  {
   "cell_type": "code",
   "execution_count": null,
   "metadata": {},
   "outputs": [],
   "source": []
  },
  {
   "cell_type": "code",
   "execution_count": null,
   "metadata": {},
   "outputs": [],
   "source": []
  },
  {
   "cell_type": "code",
   "execution_count": null,
   "metadata": {},
   "outputs": [],
   "source": []
  },
  {
   "cell_type": "code",
   "execution_count": null,
   "metadata": {},
   "outputs": [],
   "source": []
  },
  {
   "cell_type": "code",
   "execution_count": null,
   "metadata": {},
   "outputs": [],
   "source": []
  },
  {
   "cell_type": "code",
   "execution_count": null,
   "metadata": {},
   "outputs": [],
   "source": []
  },
  {
   "cell_type": "code",
   "execution_count": null,
   "metadata": {},
   "outputs": [],
   "source": []
  },
  {
   "cell_type": "code",
   "execution_count": null,
   "metadata": {},
   "outputs": [],
   "source": []
  },
  {
   "cell_type": "code",
   "execution_count": null,
   "metadata": {},
   "outputs": [],
   "source": []
  },
  {
   "cell_type": "code",
   "execution_count": null,
   "metadata": {},
   "outputs": [],
   "source": []
  },
  {
   "cell_type": "code",
   "execution_count": null,
   "metadata": {},
   "outputs": [],
   "source": []
  },
  {
   "cell_type": "code",
   "execution_count": null,
   "metadata": {},
   "outputs": [],
   "source": []
  },
  {
   "cell_type": "code",
   "execution_count": null,
   "metadata": {},
   "outputs": [],
   "source": []
  },
  {
   "cell_type": "code",
   "execution_count": null,
   "metadata": {},
   "outputs": [],
   "source": []
  },
  {
   "cell_type": "code",
   "execution_count": null,
   "metadata": {},
   "outputs": [],
   "source": []
  },
  {
   "cell_type": "code",
   "execution_count": null,
   "metadata": {},
   "outputs": [],
   "source": []
  },
  {
   "cell_type": "code",
   "execution_count": null,
   "metadata": {},
   "outputs": [],
   "source": []
  },
  {
   "cell_type": "code",
   "execution_count": null,
   "metadata": {},
   "outputs": [],
   "source": []
  },
  {
   "cell_type": "code",
   "execution_count": null,
   "metadata": {},
   "outputs": [],
   "source": []
  },
  {
   "cell_type": "code",
   "execution_count": null,
   "metadata": {},
   "outputs": [],
   "source": []
  },
  {
   "cell_type": "code",
   "execution_count": null,
   "metadata": {},
   "outputs": [],
   "source": []
  },
  {
   "cell_type": "code",
   "execution_count": null,
   "metadata": {},
   "outputs": [],
   "source": []
  },
  {
   "cell_type": "code",
   "execution_count": null,
   "metadata": {},
   "outputs": [],
   "source": []
  },
  {
   "cell_type": "code",
   "execution_count": null,
   "metadata": {},
   "outputs": [],
   "source": []
  },
  {
   "cell_type": "code",
   "execution_count": null,
   "metadata": {},
   "outputs": [],
   "source": []
  },
  {
   "cell_type": "code",
   "execution_count": null,
   "metadata": {},
   "outputs": [],
   "source": []
  },
  {
   "cell_type": "code",
   "execution_count": null,
   "metadata": {},
   "outputs": [],
   "source": []
  },
  {
   "cell_type": "code",
   "execution_count": null,
   "metadata": {},
   "outputs": [],
   "source": []
  },
  {
   "cell_type": "code",
   "execution_count": null,
   "metadata": {},
   "outputs": [],
   "source": []
  },
  {
   "cell_type": "code",
   "execution_count": null,
   "metadata": {},
   "outputs": [],
   "source": []
  },
  {
   "cell_type": "code",
   "execution_count": null,
   "metadata": {},
   "outputs": [],
   "source": []
  },
  {
   "cell_type": "code",
   "execution_count": null,
   "metadata": {},
   "outputs": [],
   "source": []
  },
  {
   "cell_type": "code",
   "execution_count": null,
   "metadata": {},
   "outputs": [],
   "source": []
  },
  {
   "cell_type": "code",
   "execution_count": null,
   "metadata": {},
   "outputs": [],
   "source": []
  },
  {
   "cell_type": "code",
   "execution_count": null,
   "metadata": {},
   "outputs": [],
   "source": []
  },
  {
   "cell_type": "code",
   "execution_count": null,
   "metadata": {},
   "outputs": [],
   "source": []
  },
  {
   "cell_type": "code",
   "execution_count": null,
   "metadata": {},
   "outputs": [],
   "source": []
  },
  {
   "cell_type": "code",
   "execution_count": null,
   "metadata": {},
   "outputs": [],
   "source": []
  },
  {
   "cell_type": "code",
   "execution_count": null,
   "metadata": {},
   "outputs": [],
   "source": []
  },
  {
   "cell_type": "code",
   "execution_count": null,
   "metadata": {},
   "outputs": [],
   "source": []
  },
  {
   "cell_type": "code",
   "execution_count": null,
   "metadata": {},
   "outputs": [],
   "source": []
  },
  {
   "cell_type": "code",
   "execution_count": null,
   "metadata": {},
   "outputs": [],
   "source": []
  },
  {
   "cell_type": "code",
   "execution_count": null,
   "metadata": {},
   "outputs": [],
   "source": []
  },
  {
   "cell_type": "code",
   "execution_count": null,
   "metadata": {},
   "outputs": [],
   "source": []
  },
  {
   "cell_type": "code",
   "execution_count": null,
   "metadata": {},
   "outputs": [],
   "source": []
  },
  {
   "cell_type": "code",
   "execution_count": null,
   "metadata": {},
   "outputs": [],
   "source": []
  },
  {
   "cell_type": "code",
   "execution_count": null,
   "metadata": {},
   "outputs": [],
   "source": []
  },
  {
   "cell_type": "code",
   "execution_count": null,
   "metadata": {},
   "outputs": [],
   "source": []
  },
  {
   "cell_type": "code",
   "execution_count": null,
   "metadata": {},
   "outputs": [],
   "source": []
  },
  {
   "cell_type": "code",
   "execution_count": null,
   "metadata": {},
   "outputs": [],
   "source": []
  },
  {
   "cell_type": "code",
   "execution_count": null,
   "metadata": {},
   "outputs": [],
   "source": []
  },
  {
   "cell_type": "code",
   "execution_count": null,
   "metadata": {},
   "outputs": [],
   "source": []
  },
  {
   "cell_type": "code",
   "execution_count": null,
   "metadata": {},
   "outputs": [],
   "source": []
  }
 ],
 "metadata": {
  "kernelspec": {
   "display_name": "Python 3",
   "language": "python",
   "name": "python3"
  },
  "language_info": {
   "codemirror_mode": {
    "name": "ipython",
    "version": 3
   },
   "file_extension": ".py",
   "mimetype": "text/x-python",
   "name": "python",
   "nbconvert_exporter": "python",
   "pygments_lexer": "ipython3",
   "version": "3.7.3"
  }
 },
 "nbformat": 4,
 "nbformat_minor": 2
}
