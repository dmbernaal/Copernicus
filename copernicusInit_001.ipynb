{
 "cells": [
  {
   "cell_type": "markdown",
   "metadata": {},
   "source": [
    "# Copernicus Init"
   ]
  },
  {
   "cell_type": "code",
   "execution_count": 1,
   "metadata": {},
   "outputs": [],
   "source": [
    "#export\n",
    "import torch.nn as nn\n",
    "import torch.nn.functional as F\n",
    "import torch"
   ]
  },
  {
   "cell_type": "code",
   "execution_count": 2,
   "metadata": {},
   "outputs": [],
   "source": [
    "#export\n",
    "# selu init\n",
    "# custom initialization method when using SeLU Activations\n",
    "def selu_normal_(tensor, mode1='fan_in', mode2='fan_out'):\n",
    "    fan_in = nn.init._calculate_correct_fan(tensor, mode1)\n",
    "    fan_out = nn.init._calculate_correct_fan(tensor, mode2)\n",
    "    with torch.no_grad():\n",
    "        return torch.randn(fan_in, fan_out) / math.sqrt(1./fan_in)\n",
    "    \n",
    "nn.init.selu_normal_ = selu_normal_ # adding to nn package"
   ]
  },
  {
   "cell_type": "code",
   "execution_count": 3,
   "metadata": {},
   "outputs": [],
   "source": [
    "#export\n",
    "# init method\n",
    "def init_nn(m, init_method):\n",
    "    \"\"\"\n",
    "    Main function to initialize the nn\n",
    "    m: model\n",
    "    init_method: <nn.init method>\n",
    "        example: nn.init.selu_normal_\n",
    "    \"\"\"\n",
    "    if init_method is None: init_method = nn.init.selu_normal_\n",
    "    if getattr(m, 'bias', None) is not None: nn.init.constant_(m.bias, 0) # for batchnorm layers\n",
    "    if isinstance(m, (nn.Linear)): init_method(m.weight) # init weights with init_method\n",
    "    for l in m.children(): init_nn(l) # recursion"
   ]
  },
  {
   "cell_type": "code",
   "execution_count": null,
   "metadata": {},
   "outputs": [],
   "source": []
  },
  {
   "cell_type": "code",
   "execution_count": null,
   "metadata": {},
   "outputs": [],
   "source": []
  },
  {
   "cell_type": "code",
   "execution_count": 4,
   "metadata": {},
   "outputs": [
    {
     "name": "stdout",
     "output_type": "stream",
     "text": [
      "Converted copernicusInit_001.ipynb to exp\\nb_copernicusInit.py\n"
     ]
    }
   ],
   "source": [
    "!python notebook2script.py copernicusInit_001.ipynb"
   ]
  },
  {
   "cell_type": "code",
   "execution_count": null,
   "metadata": {},
   "outputs": [],
   "source": []
  },
  {
   "cell_type": "code",
   "execution_count": null,
   "metadata": {},
   "outputs": [],
   "source": []
  }
 ],
 "metadata": {
  "kernelspec": {
   "display_name": "Python 3",
   "language": "python",
   "name": "python3"
  },
  "language_info": {
   "codemirror_mode": {
    "name": "ipython",
    "version": 3
   },
   "file_extension": ".py",
   "mimetype": "text/x-python",
   "name": "python",
   "nbconvert_exporter": "python",
   "pygments_lexer": "ipython3",
   "version": "3.7.3"
  }
 },
 "nbformat": 4,
 "nbformat_minor": 2
}
